{
  "cells": [
    {
      "cell_type": "markdown",
      "metadata": {
        "colab_type": "text",
        "id": "view-in-github"
      },
      "source": [
        "<a href=\"https://colab.research.google.com/github/MariaGabrielp/HR_Analitica/blob/main/Perez_Gonzalez_HR.ipynb\" target=\"_parent\"><img src=\"https://colab.research.google.com/assets/colab-badge.svg\" alt=\"Open In Colab\"/></a>"
      ]
    },
    {
      "cell_type": "code",
      "execution_count": 1,
      "metadata": {},
      "outputs": [],
      "source": [
        "import warnings\n",
        "warnings.filterwarnings(\"ignore\")"
      ]
    },
    {
      "cell_type": "code",
      "execution_count": 2,
      "metadata": {
        "id": "d3bo_T1NpUrd"
      },
      "outputs": [],
      "source": [
        "###Librerias\n",
        "import pandas as pd ### Manejo de datos\n",
        "import sqlite3 as sql #### Bases de datos y archivos sql\n",
        "#import a_funciones as funciones  ### Archivo de funciones propias\n",
        "#import sys ## saber ruta de la que carga paquetes\n",
        "import numpy as np\n",
        "import seaborn as sns\n",
        "import matplotlib.pyplot as plt"
      ]
    },
    {
      "cell_type": "markdown",
      "metadata": {},
      "source": [
        "**Lectura de datos**"
      ]
    },
    {
      "cell_type": "code",
      "execution_count": 5,
      "metadata": {},
      "outputs": [],
      "source": [
        "df_survey = pd.read_csv(\"https://raw.githubusercontent.com/MariaGabrielp/HR_Analitica/main/employee_survey_data.csv\")\n",
        "df_general = pd.read_csv(\"https://raw.githubusercontent.com/MariaGabrielp/HR_Analitica/main/general_data.csv\")\n",
        "df_manager = pd.read_csv(\"https://raw.githubusercontent.com/MariaGabrielp/HR_Analitica/main/manager_survey.csv\")\n",
        "df_retir = pd.read_csv(\"https://raw.githubusercontent.com/MariaGabrielp/HR_Analitica/main/retirement_info.csv\")"
      ]
    },
    {
      "cell_type": "markdown",
      "metadata": {},
      "source": [
        "**Diseño de solución propuesto**"
      ]
    },
    {
      "cell_type": "markdown",
      "metadata": {},
      "source": []
    },
    {
      "cell_type": "markdown",
      "metadata": {},
      "source": [
        "**Preprocesamiento de datos**"
      ]
    },
    {
      "cell_type": "code",
      "execution_count": null,
      "metadata": {},
      "outputs": [],
      "source": []
    }
  ],
  "metadata": {
    "colab": {
      "authorship_tag": "ABX9TyNPr4gvcxAAsqwljBEdJbyz",
      "include_colab_link": true,
      "provenance": []
    },
    "kernelspec": {
      "display_name": "Python 3",
      "name": "python3"
    },
    "language_info": {
      "codemirror_mode": {
        "name": "ipython",
        "version": 3
      },
      "file_extension": ".py",
      "mimetype": "text/x-python",
      "name": "python",
      "nbconvert_exporter": "python",
      "pygments_lexer": "ipython3",
      "version": "3.11.4"
    }
  },
  "nbformat": 4,
  "nbformat_minor": 0
}
