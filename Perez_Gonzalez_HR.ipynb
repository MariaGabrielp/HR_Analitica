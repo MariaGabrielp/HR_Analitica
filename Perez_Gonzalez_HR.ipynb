{
  "nbformat": 4,
  "nbformat_minor": 0,
  "metadata": {
    "colab": {
      "provenance": [],
      "authorship_tag": "ABX9TyNPr4gvcxAAsqwljBEdJbyz",
      "include_colab_link": true
    },
    "kernelspec": {
      "name": "python3",
      "display_name": "Python 3"
    },
    "language_info": {
      "name": "python"
    }
  },
  "cells": [
    {
      "cell_type": "markdown",
      "metadata": {
        "id": "view-in-github",
        "colab_type": "text"
      },
      "source": [
        "<a href=\"https://colab.research.google.com/github/MariaGabrielp/HR_Analitica/blob/main/Perez_Gonzalez_HR.ipynb\" target=\"_parent\"><img src=\"https://colab.research.google.com/assets/colab-badge.svg\" alt=\"Open In Colab\"/></a>"
      ]
    },
    {
      "cell_type": "code",
      "execution_count": null,
      "metadata": {
        "id": "d3bo_T1NpUrd"
      },
      "outputs": [],
      "source": [
        "###Librerias\n",
        "import pandas as pd ### Manejo de datos\n",
        "import sqlite3 as sql #### Bases de datos y archivos sql\n",
        "import a_funciones as funciones  ### Archivo de funciones propias\n",
        "import sys ## saber ruta de la que carga paquetes"
      ]
    }
  ]
}